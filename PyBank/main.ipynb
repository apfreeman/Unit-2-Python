{
 "cells": [
  {
   "cell_type": "code",
   "execution_count": null,
   "id": "749b2034-3600-4920-9492-feabcb60aed8",
   "metadata": {
    "tags": []
   },
   "outputs": [],
   "source": [
    "\"\"\"\n",
    "Analysis and Calculations\n",
    "\n",
    "To receive all points, your code must:\n",
    "Include a calculation of the total number of months in the dataset. (2 points)\n",
    "Calculate the net total amount of Profit/Losses over the entire period. (3 points)\n",
    "Calculate the average of the changes in Profit/Losses over the entire period. (5 points)\n",
    "Calculate the greatest increase in Profits over the entire period (Date and Amount). (10 points)\n",
    "Calculate the greatest decrease in Losses over the entire period (Date and Amount). (10 points)\n",
    "Print the analysis and export the analysis to a text file that contains the final results. (5 points)\n",
    "         \n",
    "    Pseudocode for Analysis and Calculations\n",
    "    1.Import the pathlib and csv library\n",
    "    2.Set file path to csv data set\n",
    "    3.Declare all integer variables\n",
    "    4.Declare all list variables\n",
    "    5.Declare dictionary variable\n",
    "    5.Open and parse csv file\n",
    "        5a. Create for total profit and loss\n",
    "        5b. Create list for monthly profit and loss\n",
    "        5c. Create csv dict and add csv values\n",
    "    6.Create and parse profit/loss list to determine average change and maximim and minimum\n",
    "    7.Match maximum and minimum to values in the dict to determine date for each\n",
    "    7.Print Output\n",
    "\n",
    "\"\"\""
   ]
  },
  {
   "cell_type": "code",
   "execution_count": null,
   "id": "5287d6a0-1896-45ae-ac1d-6387beb81275",
   "metadata": {},
   "outputs": [],
   "source": [
    "# Import the pathlib and csv library\n",
    "from pathlib import Path\n",
    "import csv"
   ]
  },
  {
   "cell_type": "code",
   "execution_count": null,
   "id": "2440cbb6-71e0-43cc-8613-621d74b2c73e",
   "metadata": {},
   "outputs": [],
   "source": [
    "# Set the file path\n",
    "csvpath = Path('../PyBank/budget_data.csv')\n"
   ]
  },
  {
   "cell_type": "code",
   "execution_count": null,
   "id": "c1ac1262-d38b-4b3a-b226-6447bfebca0d",
   "metadata": {
    "tags": []
   },
   "outputs": [],
   "source": [
    "# Initialise int variables\n",
    "line_num = 0\n",
    "total_months = 0\n",
    "total = 0\n",
    "total_daily = 0\n",
    "average_change = 0\n",
    "minimum_profit = 0\n",
    "maximum_profit = 0\n",
    "average_change_rounded = 0"
   ]
  },
  {
   "cell_type": "code",
   "execution_count": null,
   "id": "d2a54d10-4fe1-4a3a-bb4e-93b9f1bdbf42",
   "metadata": {
    "tags": []
   },
   "outputs": [],
   "source": [
    "# Initialise list variables \n",
    "greatest_increase = []\n",
    "greatest_decrease = []\n",
    "monthly_profit_loss = []\n",
    "monthly_profit_change_list = []"
   ]
  },
  {
   "cell_type": "code",
   "execution_count": null,
   "id": "f9acb8e1-9351-400c-bde5-ea4774cbc8b0",
   "metadata": {},
   "outputs": [],
   "source": [
    "# Initialise dict variables \n",
    "csv_dict = {}"
   ]
  },
  {
   "cell_type": "code",
   "execution_count": null,
   "id": "a2390fb0-f3f3-4b6a-955a-324d2b941c56",
   "metadata": {},
   "outputs": [],
   "source": [
    "# Open the input path as a file object\n",
    "with open(csvpath, 'r') as csvfile:\n",
    "\n",
    "    # Pass in the csv file to the csv.reader() function\n",
    "    # (with ',' as the delmiter/separator) and return the csvreader object\n",
    "    csvreader = csv.reader(csvfile, delimiter=',')\n",
    "\n",
    "    # Go to the next row from the start of the file\n",
    "    # (which is often the first row/header) and iterate line_num by 1\n",
    "    header = next(csvreader)\n",
    "    line_num += 1\n",
    "  \n",
    "    # Read each row of data after the header\n",
    "    for row in csvreader:\n",
    "        # Calculate TotalMonths in dataset\n",
    "        total_months += 1\n",
    "        \n",
    "        # Calculate Total net total amount of profit\\loss for dataset\n",
    "        total_daily = int(row[1])\n",
    "        total += total_daily\n",
    "               \n",
    "        #Create list of profit/loss for each month\n",
    "        monthly_profit_loss.append(int(row[1]))\n",
    "        \n",
    "        #Create Dictionary containing each row\n",
    "        dict_key = row[0]\n",
    "        dict_value = row[1]\n",
    "        csv_dict[dict_key] = dict_value"
   ]
  },
  {
   "cell_type": "code",
   "execution_count": null,
   "id": "43cb20ae-db78-40d6-9bcd-bdaeb0a12885",
   "metadata": {
    "tags": []
   },
   "outputs": [],
   "source": [
    "#Parse monthly profit/loss list\n",
    "#Create normalised int variables\n",
    "index = 0\n",
    "next_month_index = 1\n",
    "monthly_profit_change = 0\n",
    "monthly_profit_change_total = 0\n",
    "index_of_last_month = total_months -1\n",
    "\n",
    "#Loop through the profit and loss list\n",
    "for month in monthly_profit_loss:\n",
    "    #Calculate monthly profit change from the current month to previous month\n",
    "    monthly_profit_change = (monthly_profit_loss[next_month_index]) - (monthly_profit_loss[index])\n",
    "    #Iterate the current and next month indexes\n",
    "    index += 1\n",
    "    next_month_index += 1\n",
    "    #Calculate the total profit change month to month\n",
    "    monthly_profit_change_total += monthly_profit_change\n",
    "    #Add month on month profit comparisons to change list\n",
    "    monthly_profit_change_list.append(monthly_profit_change)\n",
    "    #Calculate the average profit change for the whole period\n",
    "    average_change = monthly_profit_change_total / index_of_last_month\n",
    "    average_change_rounded = round(average_change,2)\n",
    "    #Break out of if loop when last item in the list is reached\n",
    "    if index == index_of_last_month:\n",
    "        break\n",
    "#Greatest Increase and Decrease in profits are    \n",
    "max_value_change = max(monthly_profit_change_list) \n",
    "min_value_change = min(monthly_profit_change_list) \n",
    "max_value_index = monthly_profit_change_list.index(max_value_change)\n",
    "min_value_index = monthly_profit_change_list.index(min_value_change)"
   ]
  },
  {
   "cell_type": "code",
   "execution_count": null,
   "id": "02f20bb0-b23f-4b93-b2ca-172f276cbd3e",
   "metadata": {},
   "outputs": [],
   "source": [
    "# get this items from the dictionary\n",
    "#max value key will be position + 1 to account for list starting at 0\n",
    "max_value_key = list(csv_dict)[max_value_index + 1]\n",
    "#min value key will be position + 1 to account for list starting at 0\n",
    "min_value_key = list(csv_dict)[min_value_index + 1]\n",
    "    "
   ]
  },
  {
   "cell_type": "code",
   "execution_count": null,
   "id": "f70e0807-b266-4e6c-b519-f16dbb72ea75",
   "metadata": {
    "tags": []
   },
   "outputs": [],
   "source": [
    "# Print the Financial Analysis\n",
    "print(f\"Financial Analysis\")\n",
    "print(f\"----------------------------\")\n",
    "print(f\"Total Months: {total_months}\")\n",
    "print(f\"Total: ${total}\")\n",
    "print(f\"Average Change: ${average_change_rounded}\")\n",
    "print(f\"Greatest Increase in Profits: {max_value_key} (${max_value_change})\")\n",
    "print(f\"Greatest Decrease in Profits: {min_value_key} (${min_value_change})\")"
   ]
  },
  {
   "cell_type": "code",
   "execution_count": null,
   "id": "4730b4b0-d41f-4713-8b7c-d9916ad6c07e",
   "metadata": {},
   "outputs": [],
   "source": [
    "with open('../PyBank/output.txt', 'w') as file:\n",
    "    file.write(\"Financial Analysis\")\n",
    "    file.write('\\n')\n",
    "    file.write(f\"----------------------------\")\n",
    "    file.write('\\n')\n",
    "    file.write(f\"Total Months: {total_months}\")\n",
    "    file.write('\\n')\n",
    "    file.write(f\"Total: ${total}\")\n",
    "    file.write('\\n')\n",
    "    file.write(f\"Average Change: ${average_change_rounded}\")\n",
    "    file.write('\\n')\n",
    "    file.write(f\"Greatest Increase in Profits: {max_value_key} (${max_value_change})\")\n",
    "    file.write('\\n')\n",
    "    file.write(f\"Greatest Decrease in Profits: {min_value_key} (${min_value_change})\")"
   ]
  },
  {
   "cell_type": "code",
   "execution_count": null,
   "id": "212d699b-e107-4ea6-be9c-ee973caac0f4",
   "metadata": {},
   "outputs": [],
   "source": []
  }
 ],
 "metadata": {
  "kernelspec": {
   "display_name": "Python 3",
   "language": "python",
   "name": "python3"
  },
  "language_info": {
   "codemirror_mode": {
    "name": "ipython",
    "version": 3
   },
   "file_extension": ".py",
   "mimetype": "text/x-python",
   "name": "python",
   "nbconvert_exporter": "python",
   "pygments_lexer": "ipython3",
   "version": "3.7.10"
  }
 },
 "nbformat": 4,
 "nbformat_minor": 5
}
