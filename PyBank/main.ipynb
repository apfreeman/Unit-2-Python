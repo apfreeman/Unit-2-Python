{
 "cells": [
  {
   "cell_type": "code",
   "execution_count": 486,
   "id": "749b2034-3600-4920-9492-feabcb60aed8",
   "metadata": {
    "tags": []
   },
   "outputs": [
    {
     "data": {
      "text/plain": [
       "'\\nAnalysis and Calculations\\n\\nTo receive all points, your code must:\\nInclude a calculation of the total number of months in the dataset. (2 points)\\nCalculate the net total amount of Profit/Losses over the entire period. (3 points)\\nCalculate the average of the changes in Profit/Losses over the entire period. (5 points)\\nCalculate the greatest increase in Profits over the entire period (Date and Amount). (10 points)\\nCalculate the greatest decrease in Losses over the entire period (Date and Amount). (10 points)\\nPrint the analysis and export the analysis to a text file that contains the final results. (5 points)\\n         \\n    Pseudocode for Analysis and Calculations\\n    1.Import the pathlib and csv library\\n    2.Set file path to csv data set\\n    3.Declare all integer variables\\n    4.Declare all list variables\\n    5.Open and parse csv file\\n    6.Create and parse profit/loss list to determine average change\\n    7.Print Output\\n\\n'"
      ]
     },
     "execution_count": 486,
     "metadata": {},
     "output_type": "execute_result"
    }
   ],
   "source": [
    "\"\"\"\n",
    "Analysis and Calculations\n",
    "\n",
    "To receive all points, your code must:\n",
    "Include a calculation of the total number of months in the dataset. (2 points)\n",
    "Calculate the net total amount of Profit/Losses over the entire period. (3 points)\n",
    "Calculate the average of the changes in Profit/Losses over the entire period. (5 points)\n",
    "Calculate the greatest increase in Profits over the entire period (Date and Amount). (10 points)\n",
    "Calculate the greatest decrease in Losses over the entire period (Date and Amount). (10 points)\n",
    "Print the analysis and export the analysis to a text file that contains the final results. (5 points)\n",
    "         \n",
    "    Pseudocode for Analysis and Calculations\n",
    "    1.Import the pathlib and csv library\n",
    "    2.Set file path to csv data set\n",
    "    3.Declare all integer variables\n",
    "    4.Declare all list variables\n",
    "    5.Open and parse csv file\n",
    "    6.Create and parse profit/loss list to determine average change\n",
    "    7.Print Output\n",
    "\n",
    "\"\"\""
   ]
  },
  {
   "cell_type": "code",
   "execution_count": 487,
   "id": "5287d6a0-1896-45ae-ac1d-6387beb81275",
   "metadata": {},
   "outputs": [],
   "source": [
    "# Import the pathlib and csv library\n",
    "from pathlib import Path\n",
    "import csv"
   ]
  },
  {
   "cell_type": "code",
   "execution_count": 488,
   "id": "2440cbb6-71e0-43cc-8613-621d74b2c73e",
   "metadata": {},
   "outputs": [],
   "source": [
    "# Set the file path\n",
    "csvpath = Path('../PyBank/budget_data.csv')\n"
   ]
  },
  {
   "cell_type": "code",
   "execution_count": 489,
   "id": "c1ac1262-d38b-4b3a-b226-6447bfebca0d",
   "metadata": {
    "tags": []
   },
   "outputs": [],
   "source": [
    "# Initialise int variables\n",
    "line_num = 0\n",
    "total_months = 0\n",
    "total = 0\n",
    "total_daily = 0\n",
    "average_change = 0\n",
    "minimum_profit = 0\n",
    "maximum_profit = 0"
   ]
  },
  {
   "cell_type": "code",
   "execution_count": 490,
   "id": "d2a54d10-4fe1-4a3a-bb4e-93b9f1bdbf42",
   "metadata": {
    "tags": []
   },
   "outputs": [],
   "source": [
    "# Initialise list variables \n",
    "greatest_increase = []\n",
    "greatest_decrease = []\n",
    "monthly_profit_loss = []"
   ]
  },
  {
   "cell_type": "code",
   "execution_count": 491,
   "id": "b1e5efc5-9b3e-48e0-b723-aa0299dd2dd3",
   "metadata": {},
   "outputs": [],
   "source": [
    "# Define a average of the changes of profit/losses\n",
    "def average_profit_loss(today_profit, tomorrow_profit):\n",
    "    dpl = today_profit - tomorrow_profit\n",
    "\n",
    "    return dpl\n"
   ]
  },
  {
   "cell_type": "code",
   "execution_count": 492,
   "id": "a2390fb0-f3f3-4b6a-955a-324d2b941c56",
   "metadata": {},
   "outputs": [],
   "source": [
    "# Open the input path as a file object\n",
    "with open(csvpath, 'r') as csvfile:\n",
    "\n",
    "    # Pass in the csv file to the csv.reader() function\n",
    "    # (with ',' as the delmiter/separator) and return the csvreader object\n",
    "    csvreader = csv.reader(csvfile, delimiter=',')\n",
    "\n",
    "    # Go to the next row from the start of the file\n",
    "    # (which is often the first row/header) and iterate line_num by 1\n",
    "    header = next(csvreader)\n",
    "    line_num += 1\n",
    "  \n",
    "    # Read each row of data after the header\n",
    "    for row in csvreader:\n",
    "        # Calculate TotalMonths\n",
    "        total_months += 1\n",
    "        \n",
    "        # Calculate Total\n",
    "        total_daily = int(row[1])\n",
    "        total += total_daily\n",
    "               \n",
    "        #Create list of profit/loss for each month\n",
    "        monthly_profit_loss.append(int(row[1]))\n",
    "          \n",
    "    "
   ]
  },
  {
   "cell_type": "code",
   "execution_count": 493,
   "id": "43cb20ae-db78-40d6-9bcd-bdaeb0a12885",
   "metadata": {
    "tags": []
   },
   "outputs": [],
   "source": [
    "#Parse monthly profit/loss list\n",
    "#Create normalised int variables\n",
    "index = 0\n",
    "next_month_index = 1\n",
    "monthly_profit_change = 0\n",
    "monthly_profit_change_total = 0\n",
    "index_of_last_month = total_months -1\n",
    "\n",
    "#Loop through the profit and loss list\n",
    "for month in monthly_profit_loss:\n",
    "    #Calculate monthly profit change from the current month to previous month\n",
    "    monthly_profit_change = (monthly_profit_loss[next_month_index]) - (monthly_profit_loss[index])\n",
    "    #Iterate the current and next month indexes\n",
    "    index += 1\n",
    "    next_month_index += 1\n",
    "    #Calculate the total profit change month to month\n",
    "    monthly_profit_change_total += monthly_profit_change\n",
    "    #Calculate the average profit change for the whole period\n",
    "    average_change = monthly_profit_change_total / index_of_last_month\n",
    "    average_change_rounded = round(average_change,2)\n",
    "    #Break out of if loop when last item in the list is reached\n",
    "    if index == index_of_last_month:\n",
    "        break\n"
   ]
  },
  {
   "cell_type": "code",
   "execution_count": null,
   "id": "41c6869b-673b-441c-9eda-5e4e55f0d857",
   "metadata": {},
   "outputs": [],
   "source": [
    "#Parse monthly profit/loss list\n",
    "#Create normalised int variables\n"
   ]
  },
  {
   "cell_type": "code",
   "execution_count": 494,
   "id": "f70e0807-b266-4e6c-b519-f16dbb72ea75",
   "metadata": {
    "tags": []
   },
   "outputs": [
    {
     "name": "stdout",
     "output_type": "stream",
     "text": [
      "Financial Analysis\n",
      "----------------------------\n",
      "Total Months: 86\n",
      "Total: $38382578\n",
      "Average Change: $-2315.12\n",
      "Greatest Increase in Profits: 0\n",
      "Greatest Decrease in Profits:0\n"
     ]
    }
   ],
   "source": [
    "# Print the Financial Analysis\n",
    "print(f\"Financial Analysis\")\n",
    "print(f\"----------------------------\")\n",
    "print(f\"Total Months: {total_months}\")\n",
    "print(f\"Total: ${total}\")\n",
    "print(f\"Average Change: ${average_change_rounded}\")\n",
    "print(f\"Greatest Increase in Profits: {maximum_profit}\")\n",
    "print(f\"Greatest Decrease in Profits:{minimum_profit}\")"
   ]
  },
  {
   "cell_type": "code",
   "execution_count": null,
   "id": "d0c3ea22-d0bc-4e66-9c65-9e404881cfa1",
   "metadata": {},
   "outputs": [],
   "source": []
  },
  {
   "cell_type": "code",
   "execution_count": null,
   "id": "0aba65cb-d8f7-4f98-9383-926ba20edd93",
   "metadata": {},
   "outputs": [],
   "source": []
  },
  {
   "cell_type": "code",
   "execution_count": null,
   "id": "44dfd4b9-1dd1-4b71-ac3c-5c8482122850",
   "metadata": {},
   "outputs": [],
   "source": []
  },
  {
   "cell_type": "code",
   "execution_count": null,
   "id": "dbe84946-8d53-4fd1-a697-619add4de9c7",
   "metadata": {},
   "outputs": [],
   "source": []
  },
  {
   "cell_type": "code",
   "execution_count": null,
   "id": "a88129e7-8d95-494e-9ec5-073ff317d977",
   "metadata": {},
   "outputs": [],
   "source": []
  },
  {
   "cell_type": "code",
   "execution_count": null,
   "id": "1b50e1a3-6806-4f15-9d2e-612b3c6a764b",
   "metadata": {},
   "outputs": [],
   "source": []
  }
 ],
 "metadata": {
  "kernelspec": {
   "display_name": "Python 3",
   "language": "python",
   "name": "python3"
  },
  "language_info": {
   "codemirror_mode": {
    "name": "ipython",
    "version": 3
   },
   "file_extension": ".py",
   "mimetype": "text/x-python",
   "name": "python",
   "nbconvert_exporter": "python",
   "pygments_lexer": "ipython3",
   "version": "3.7.10"
  }
 },
 "nbformat": 4,
 "nbformat_minor": 5
}
