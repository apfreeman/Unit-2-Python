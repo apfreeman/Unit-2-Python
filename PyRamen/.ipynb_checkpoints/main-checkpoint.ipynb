{
 "cells": [
  {
   "cell_type": "code",
   "execution_count": null,
   "id": "724b0aa1-00e4-4035-8fca-b36d2060e083",
   "metadata": {
    "tags": []
   },
   "outputs": [],
   "source": [
    "\"\"\"\n",
    "Analysis and Calculations\n",
    "\n",
    "To receive all points, your code must:\n",
    "Include a calculation of the total number of months in the dataset. (2 points)\n",
    "Calculate the net total amount of Profit/Losses over the entire period. (3 points)\n",
    "Calculate the average of the changes in Profit/Losses over the entire period. (5 points)\n",
    "Calculate the greatest increase in Profits over the entire period (Date and Amount). (10 points)\n",
    "Calculate the greatest decrease in Losses over the entire period (Date and Amount). (10 points)\n",
    "Print the analysis and export the analysis to a text file that contains the final results. (5 points)\n",
    "         \n",
    "    Pseudocode for Analysis and Calculations\n",
    "    1.Import the pathlib and csv library\n",
    "    2.Set file path to csv data set\n",
    "    3.Declare all integer variables\n",
    "    4.Declare all list variables\n",
    "    5.Declare dictionary variable\n",
    "    5.Open and parse csv file\n",
    "        5a. Create for total profit and loss\n",
    "        5b. Create list for monthly profit and loss\n",
    "        5c. Create csv dict and add csv values\n",
    "    6.Create and parse profit/loss list to determine average change and maximim and minimum\n",
    "    7.Match maximum and minimum to values in the dict to determine date for each\n",
    "    7.Print Output\n",
    "\n",
    "\"\"\""
   ]
  },
  {
   "cell_type": "code",
   "execution_count": null,
   "id": "5727c108-4e63-4eb3-b1f1-3c5267217fc9",
   "metadata": {},
   "outputs": [],
   "source": [
    "# Import the pathlib and csv library\n",
    "from pathlib import Path\n",
    "import csv"
   ]
  },
  {
   "cell_type": "code",
   "execution_count": null,
   "id": "99349fbc-ec6d-4b25-a42e-0f12b5343738",
   "metadata": {},
   "outputs": [],
   "source": [
    "# Set the file paths\n",
    "menu_data_csvpath = Path('../PyRamen/menu_data.csv')\n",
    "sales_data_csvpath = Path('../PyRamen/sales_data.csv')"
   ]
  },
  {
   "cell_type": "code",
   "execution_count": null,
   "id": "b3f7218e-4ebd-46f4-a03e-0209a7380142",
   "metadata": {},
   "outputs": [],
   "source": [
    "# Initialise int variables \n",
    "line_num = 0"
   ]
  },
  {
   "cell_type": "code",
   "execution_count": 17,
   "id": "f2360a1f-73bc-46e4-bb73-c7ff8dc05ca0",
   "metadata": {
    "tags": []
   },
   "outputs": [],
   "source": [
    "# Initialise list variables \n",
    "menu = []\n",
    "sales = []"
   ]
  },
  {
   "cell_type": "code",
   "execution_count": null,
   "id": "ac7eeaf5-9dfa-48f4-9a9d-69c008f32a96",
   "metadata": {},
   "outputs": [],
   "source": [
    "# Open the menu_data input path as a file object\n",
    "with open(menu_data_csvpath, 'r') as csvfile:\n",
    "\n",
    "    # Pass in the csv file to the csv.reader() function\n",
    "    # (with ',' as the delmiter/separator) and return the csvreader object\n",
    "    csvreader = csv.reader(csvfile, delimiter=',')\n",
    "\n",
    "    # Go to the next row from the start of the file\n",
    "    # (which is often the first row/header) and iterate line_num by 1\n",
    "    header = next(csvreader)\n",
    "    line_num += 1\n",
    "  \n",
    "    # Read each row of data after the header\n",
    "    # Create menu object which is a list of lists\n",
    "    for row in csvreader:\n",
    "        menu.append(row)\n",
    "        print(menu)"
   ]
  },
  {
   "cell_type": "code",
   "execution_count": null,
   "id": "1a86a6d2-540d-475c-8bb3-166869b67a0e",
   "metadata": {},
   "outputs": [
    {
     "name": "stderr",
     "output_type": "stream",
     "text": [
      "IOPub data rate exceeded.\n",
      "The Jupyter server will temporarily stop sending output\n",
      "to the client in order to avoid crashing it.\n",
      "To change this limit, set the config variable\n",
      "`--ServerApp.iopub_data_rate_limit`.\n",
      "\n",
      "Current values:\n",
      "ServerApp.iopub_data_rate_limit=1000000.0 (bytes/sec)\n",
      "ServerApp.rate_limit_window=3.0 (secs)\n",
      "\n"
     ]
    }
   ],
   "source": [
    "# Open the sales_data input path as a file object\n",
    "with open(sales_data_csvpath, 'r') as csvfile:\n",
    "\n",
    "    # Pass in the csv file to the csv.reader() function\n",
    "    # (with ',' as the delmiter/separator) and return the csvreader object\n",
    "    csvreader = csv.reader(csvfile, delimiter=',')\n",
    "\n",
    "    # Go to the next row from the start of the file\n",
    "    # (which is often the first row/header) and iterate line_num by 1\n",
    "    header = next(csvreader)\n",
    "    line_num += 1\n",
    "  \n",
    "    # Read each row of data after the header\n",
    "    # Create sales object which is a list of lists\n",
    "    for row in csvreader:\n",
    "        sales.append(row)\n",
    "        print(sales)"
   ]
  },
  {
   "cell_type": "code",
   "execution_count": null,
   "id": "f809d774-4bd3-4091-88bc-41c538676437",
   "metadata": {},
   "outputs": [],
   "source": []
  },
  {
   "cell_type": "code",
   "execution_count": null,
   "id": "348575b6-2dd5-4f22-ba5b-13669b96edb0",
   "metadata": {},
   "outputs": [],
   "source": []
  },
  {
   "cell_type": "code",
   "execution_count": null,
   "id": "9b13a3d0-a356-41b2-bb52-fc520b92f7d8",
   "metadata": {},
   "outputs": [],
   "source": []
  },
  {
   "cell_type": "code",
   "execution_count": null,
   "id": "41142f60-66ae-439f-8f26-2ba07c4430d6",
   "metadata": {},
   "outputs": [],
   "source": []
  },
  {
   "cell_type": "code",
   "execution_count": null,
   "id": "a140854c-d12d-4a0c-930b-377741303dab",
   "metadata": {},
   "outputs": [],
   "source": []
  },
  {
   "cell_type": "code",
   "execution_count": null,
   "id": "f317bcdd-99df-478a-aca5-1da74795c53f",
   "metadata": {},
   "outputs": [],
   "source": []
  },
  {
   "cell_type": "code",
   "execution_count": null,
   "id": "6ddf9468-8eab-4b63-96f0-53614c1bed9f",
   "metadata": {},
   "outputs": [],
   "source": []
  },
  {
   "cell_type": "code",
   "execution_count": null,
   "id": "55d88ec7-fb9f-41aa-99e6-0a7502bcebca",
   "metadata": {},
   "outputs": [],
   "source": []
  },
  {
   "cell_type": "code",
   "execution_count": null,
   "id": "b944fcfa-fcbd-416f-985d-638df50f43df",
   "metadata": {},
   "outputs": [],
   "source": []
  }
 ],
 "metadata": {
  "kernelspec": {
   "display_name": "Python 3",
   "language": "python",
   "name": "python3"
  },
  "language_info": {
   "codemirror_mode": {
    "name": "ipython",
    "version": 3
   },
   "file_extension": ".py",
   "mimetype": "text/x-python",
   "name": "python",
   "nbconvert_exporter": "python",
   "pygments_lexer": "ipython3",
   "version": "3.7.10"
  }
 },
 "nbformat": 4,
 "nbformat_minor": 5
}
